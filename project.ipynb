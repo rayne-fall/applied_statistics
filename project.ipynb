{
 "cells": [
  {
   "cell_type": "markdown",
   "id": "17c5ad27",
   "metadata": {},
   "source": [
    "# Applied Statistics Project\n",
    "*****"
   ]
  },
  {
   "cell_type": "markdown",
   "id": "44e91c8c",
   "metadata": {},
   "source": [
    "## Introduction"
   ]
  },
  {
   "cell_type": "markdown",
   "id": "7e6ca1ee",
   "metadata": {},
   "source": [
    "## Imports"
   ]
  },
  {
   "cell_type": "code",
   "execution_count": 12,
   "id": "f21d8e36",
   "metadata": {},
   "outputs": [],
   "source": [
    "# Standard mathematical functions\n",
    "# https://docs.python.org/3/library/math.html\n",
    "import math\n",
    "\n",
    "# Numerical structures asnd operations\n",
    "# https://numpy.org/doc/stable/user/index.html#user\n",
    "import numpy as np\n",
    "\n",
    "# Permutations and combinations\n",
    "# https://docs.python.org/3/library/itertools.html\n",
    "import itertools\n",
    "\n",
    "# Generate pseudo-random numbers\n",
    "# https://docs.python.org/3/library/random.html\n",
    "import random\n",
    "\n",
    "# Create plots\n",
    "# https://matplotlib.org/stable/users/index.html\n",
    "import matplotlib as pt"
   ]
  },
  {
   "cell_type": "markdown",
   "id": "b52aa32f",
   "metadata": {},
   "source": [
    "## Problem 1: Extending the Lady Tasting Tea "
   ]
  },
  {
   "cell_type": "markdown",
   "id": "58a6ae28",
   "metadata": {},
   "source": [
    "The goal here is to extend the original lady tasting tea experiment (<i>Fisher, 1935</i>), where a participant is presented with a set of randomly-shuffled cups of tea and claims to be able to tell which cups had the milk poured in before the tea. The original experiment used 8 cups of tea (4 with the tea poured first and 4 with the milk poured first). We are going to use 12 cups (8 tea-first and 4 milk-first), and calculate the probability of the participant correctly identifying the preparation method for each cup."
   ]
  },
  {
   "cell_type": "markdown",
   "id": "f9c98e4a",
   "metadata": {},
   "source": [
    "shuffle cups many times with numpy\n",
    "\n",
    "calculate chances of participant correctly identifying the 8 cups, they'll have identified the other 4 cups by extension"
   ]
  },
  {
   "cell_type": "markdown",
   "id": "d1f66331",
   "metadata": {},
   "source": [
    "### Null Hypothesis"
   ]
  },
  {
   "cell_type": "markdown",
   "id": "94077daf",
   "metadata": {},
   "source": [
    "1. The participant has no special ability to discern the preparation method for each cup\n",
    "2. The participant is selecting 8 cups at random and declaring them to have been prepared with the milk added after the tea infusion."
   ]
  },
  {
   "cell_type": "markdown",
   "id": "890c93c4",
   "metadata": {},
   "source": [
    "### Alternate Hypothesis"
   ]
  },
  {
   "cell_type": "markdown",
   "id": "1b74c229",
   "metadata": {},
   "source": [
    "1. The participant is able to identify the cups which were prepared with the milk added after the tea infusion."
   ]
  },
  {
   "cell_type": "markdown",
   "id": "1c87ac75",
   "metadata": {},
   "source": [
    "### Prepare the cups"
   ]
  },
  {
   "cell_type": "code",
   "execution_count": 13,
   "id": "7c46d03c",
   "metadata": {},
   "outputs": [],
   "source": [
    "# number of cups\n",
    "n_cups = 12\n",
    "\n",
    "# number of cups with milk added first\n",
    "cups_milk_first = 4\n",
    "\n",
    "# number of cups with tea added first\n",
    "cups_tea_first = 8"
   ]
  },
  {
   "cell_type": "markdown",
   "id": "e95232bc",
   "metadata": {},
   "source": [
    "### Calculating possible combinations using math.combi"
   ]
  },
  {
   "cell_type": "code",
   "execution_count": 14,
   "id": "c8ab6e7e",
   "metadata": {},
   "outputs": [
    {
     "data": {
      "text/plain": [
       "495"
      ]
     },
     "execution_count": 14,
     "metadata": {},
     "output_type": "execute_result"
    }
   ],
   "source": [
    "# number of possible combinations when selecting 8 cups from the 12 presented\n",
    "combinations = math.comb(n_cups, cups_tea_first)\n",
    "combinations"
   ]
  },
  {
   "cell_type": "markdown",
   "id": "37fb8347",
   "metadata": {},
   "source": [
    "### Calculating possible combinations using the choose function"
   ]
  },
  {
   "cell_type": "code",
   "execution_count": 15,
   "id": "5c1773f3",
   "metadata": {},
   "outputs": [],
   "source": [
    "# total number of cups\n",
    "n = 12\n",
    "\n",
    "# number of cups with tea first\n",
    "k = 8"
   ]
  },
  {
   "cell_type": "code",
   "execution_count": 16,
   "id": "c3d3232b",
   "metadata": {},
   "outputs": [
    {
     "data": {
      "text/plain": [
       "[0, 2, 3, 4, 5, 6, 10, 11]"
      ]
     },
     "execution_count": 16,
     "metadata": {},
     "output_type": "execute_result"
    }
   ],
   "source": [
    "# pick 8 random cups to prepare with the tea first\n",
    "tea_first = random.sample(list(range(n_cups)), 8)\n",
    "tea_first.sort()\n",
    "tea_first"
   ]
  },
  {
   "cell_type": "markdown",
   "id": "ef22aba3",
   "metadata": {},
   "source": [
    "The probability that the participant will select this specific subset from the larger set of cups is 1/495."
   ]
  },
  {
   "cell_type": "markdown",
   "id": "9c20efa8",
   "metadata": {},
   "source": [
    "## Problem 2: Normal Distribution"
   ]
  },
  {
   "cell_type": "markdown",
   "id": "3b4560ac",
   "metadata": {},
   "source": [
    "generate 100,000 samples of size 10 from standard normal distribution\n",
    "\n",
    "compute standard deviation with ddof=1 and ddof=0 for each sample\n",
    "\n",
    "plot histograms of both sets of values on the same axes with transparency\n",
    "\n",
    "describe differences\n",
    "\n",
    "explain how differences are expected to change with larger sample sizes"
   ]
  },
  {
   "cell_type": "markdown",
   "id": "7f3bddc3",
   "metadata": {},
   "source": [
    "## Problem 3: t-Tests"
   ]
  },
  {
   "cell_type": "markdown",
   "id": "91b65d55",
   "metadata": {},
   "source": [
    "## Problem 4: ANOVA"
   ]
  },
  {
   "cell_type": "markdown",
   "id": "a04f04d2",
   "metadata": {},
   "source": [
    "### References"
   ]
  },
  {
   "cell_type": "markdown",
   "id": "be49fd0e",
   "metadata": {},
   "source": [
    "*****\n",
    "# End"
   ]
  }
 ],
 "metadata": {
  "kernelspec": {
   "display_name": "Python 3",
   "language": "python",
   "name": "python3"
  },
  "language_info": {
   "codemirror_mode": {
    "name": "ipython",
    "version": 3
   },
   "file_extension": ".py",
   "mimetype": "text/x-python",
   "name": "python",
   "nbconvert_exporter": "python",
   "pygments_lexer": "ipython3",
   "version": "3.12.1"
  }
 },
 "nbformat": 4,
 "nbformat_minor": 5
}
