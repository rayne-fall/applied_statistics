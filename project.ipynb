{
 "cells": [
  {
   "cell_type": "markdown",
   "id": "17c5ad27",
   "metadata": {},
   "source": [
    "# Applied Statistics Project\n",
    "*****"
   ]
  },
  {
   "cell_type": "markdown",
   "id": "44e91c8c",
   "metadata": {},
   "source": [
    "## Introduction"
   ]
  },
  {
   "cell_type": "markdown",
   "id": "7e6ca1ee",
   "metadata": {},
   "source": [
    "### Imports"
   ]
  },
  {
   "cell_type": "code",
   "execution_count": 3,
   "id": "f21d8e36",
   "metadata": {},
   "outputs": [],
   "source": [
    "import numpy as np\n",
    "import matplotlib as pt\n",
    "import pandas as pd"
   ]
  },
  {
   "cell_type": "markdown",
   "id": "b52aa32f",
   "metadata": {},
   "source": [
    "## Problem 1: Extending the Lady Tasting Tea "
   ]
  },
  {
   "cell_type": "markdown",
   "id": "58a6ae28",
   "metadata": {},
   "source": [
    "The goal here is to extend the original lady tasting tea experiment (<i>Fisher, 1935</i>), where a participant is presented with a set of randomly-shuffled cups of tea and claims to be able to tell which cups had the milk poured in before the tea. The original experiment used 8 cups of tea (4 with the tea poured first and 4 with the milk poured first). We are going to use 12 cups (8 tea-first and 4 milk-first), and calculate the probability of the participant correctly identifying the preparation method for each cup."
   ]
  },
  {
   "cell_type": "markdown",
   "id": "f9c98e4a",
   "metadata": {},
   "source": [
    "shuffle cups many times with numpy\n",
    "\n",
    "calculate probability of player identifying all by random chance"
   ]
  },
  {
   "cell_type": "markdown",
   "id": "9c20efa8",
   "metadata": {},
   "source": [
    "## Problem 2: Normal Distribution"
   ]
  },
  {
   "cell_type": "markdown",
   "id": "3b4560ac",
   "metadata": {},
   "source": [
    "generate 100,000 samples of size 10 from standard normal distribution\n",
    "\n",
    "compute standard deviation with ddof=1 and ddof=0 for each sample\n",
    "\n",
    "plot histograms of both sets of values on the same axes with transparency\n",
    "\n",
    "describe differences\n",
    "\n",
    "explain how differences are expected to change with larger sample sizes"
   ]
  },
  {
   "cell_type": "markdown",
   "id": "7f3bddc3",
   "metadata": {},
   "source": [
    "## Problem 3: t-Tests"
   ]
  },
  {
   "cell_type": "markdown",
   "id": "91b65d55",
   "metadata": {},
   "source": [
    "## Problem 4: ANOVA"
   ]
  },
  {
   "cell_type": "markdown",
   "id": "a04f04d2",
   "metadata": {},
   "source": [
    "### References"
   ]
  },
  {
   "cell_type": "markdown",
   "id": "be49fd0e",
   "metadata": {},
   "source": [
    "*****\n",
    "# End"
   ]
  }
 ],
 "metadata": {
  "kernelspec": {
   "display_name": "Python 3",
   "language": "python",
   "name": "python3"
  },
  "language_info": {
   "codemirror_mode": {
    "name": "ipython",
    "version": 3
   },
   "file_extension": ".py",
   "mimetype": "text/x-python",
   "name": "python",
   "nbconvert_exporter": "python",
   "pygments_lexer": "ipython3",
   "version": "3.12.1"
  }
 },
 "nbformat": 4,
 "nbformat_minor": 5
}
