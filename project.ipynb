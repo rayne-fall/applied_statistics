{
 "cells": [
  {
   "cell_type": "markdown",
   "id": "17c5ad27",
   "metadata": {},
   "source": [
    "# Applied Statistics Project\n",
    "*****"
   ]
  },
  {
   "cell_type": "markdown",
   "id": "44e91c8c",
   "metadata": {},
   "source": [
    "## Introduction"
   ]
  },
  {
   "cell_type": "markdown",
   "id": "b52aa32f",
   "metadata": {},
   "source": [
    "## Problem 1: Extending the Lady Tasting Tea "
   ]
  },
  {
   "cell_type": "markdown",
   "id": "9c20efa8",
   "metadata": {},
   "source": [
    "## Problem 2: Normal Distribution"
   ]
  },
  {
   "cell_type": "markdown",
   "id": "7f3bddc3",
   "metadata": {},
   "source": [
    "## Problem 3: t-Tests"
   ]
  },
  {
   "cell_type": "markdown",
   "id": "91b65d55",
   "metadata": {},
   "source": [
    "## Problem 4: ANOVA"
   ]
  },
  {
   "cell_type": "markdown",
   "id": "be49fd0e",
   "metadata": {},
   "source": [
    "*****\n",
    "# End"
   ]
  }
 ],
 "metadata": {
  "language_info": {
   "name": "python"
  }
 },
 "nbformat": 4,
 "nbformat_minor": 5
}
