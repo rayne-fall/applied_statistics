{
 "cells": [
  {
   "cell_type": "markdown",
   "id": "17c5ad27",
   "metadata": {},
   "source": [
    "# Applied Statistics Project\n",
    "*****"
   ]
  },
  {
   "cell_type": "markdown",
   "id": "44e91c8c",
   "metadata": {},
   "source": [
    "## Introduction"
   ]
  },
  {
   "cell_type": "markdown",
   "id": "7e6ca1ee",
   "metadata": {},
   "source": [
    "## Imports"
   ]
  },
  {
   "cell_type": "code",
   "execution_count": 136,
   "id": "f21d8e36",
   "metadata": {},
   "outputs": [],
   "source": [
    "# Standard mathematical functions\n",
    "# https://docs.python.org/3/library/math.html\n",
    "import math\n",
    "\n",
    "# Numerical structures asnd operations\n",
    "# https://numpy.org/doc/stable/user/index.html#user\n",
    "import numpy as np\n",
    "\n",
    "# Permutations and combinations\n",
    "# https://docs.python.org/3/library/itertools.html\n",
    "import itertools\n",
    "\n",
    "# Generate pseudo-random numbers\n",
    "# https://docs.python.org/3/library/random.html\n",
    "import random\n",
    "\n",
    "# Create plots\n",
    "# https://matplotlib.org/stable/users/index.html\n",
    "import matplotlib.pyplot as plt"
   ]
  },
  {
   "cell_type": "markdown",
   "id": "b52aa32f",
   "metadata": {},
   "source": [
    "## Problem 1: Extending the Lady Tasting Tea "
   ]
  },
  {
   "cell_type": "markdown",
   "id": "58a6ae28",
   "metadata": {},
   "source": [
    "The goal here is to extend the original lady tasting tea experiment (<i>Fisher, 1935</i>), where a participant is presented with a set of randomly-shuffled cups of tea and claims to be able to tell which cups had the milk poured in before the tea. The original experiment used 8 cups of tea (4 with the tea poured first and 4 with the milk poured first). We are going to use 12 cups (8 tea-first and 4 milk-first), and calculate the probability of the participant correctly identifying the preparation method for each cup."
   ]
  },
  {
   "cell_type": "markdown",
   "id": "1c87ac75",
   "metadata": {},
   "source": [
    "### Prepare the cups"
   ]
  },
  {
   "cell_type": "code",
   "execution_count": 137,
   "id": "7c46d03c",
   "metadata": {},
   "outputs": [],
   "source": [
    "# number of cups\n",
    "n_cups = 12\n",
    "\n",
    "# number of cups with milk added first\n",
    "cups_milk_first = 4\n",
    "\n",
    "# number of cups with tea added first\n",
    "cups_tea_first = 8"
   ]
  },
  {
   "cell_type": "markdown",
   "id": "0798c6f2",
   "metadata": {},
   "source": [
    "### Calculating possible combinations"
   ]
  },
  {
   "cell_type": "markdown",
   "id": "5d4657b8",
   "metadata": {},
   "source": [
    "In mathematics, the choose function allows us to calculate the number of possible combinations when selecting <i>n</i> objects from a set of <i>k</i> objects  without order and without repetition i.e. each object can only be selected once."
   ]
  },
  {
   "cell_type": "markdown",
   "id": "cf6997e8",
   "metadata": {},
   "source": [
    "![combination formula](https://wikimedia.org/api/rest_v1/media/math/render/svg/0f4e3f6d2dc3075f5569c82118fad11c32dff393)"
   ]
  },
  {
   "cell_type": "markdown",
   "id": "37fb8347",
   "metadata": {},
   "source": [
    "#### Calculating possible combinations using math.factorial"
   ]
  },
  {
   "cell_type": "markdown",
   "id": "68599d7e",
   "metadata": {},
   "source": [
    "The [math.factorial](https://docs.python.org/3/library/math.html#math.factorial) function allows us to easily make the calculations necessary for the choose function."
   ]
  },
  {
   "cell_type": "code",
   "execution_count": 138,
   "id": "5c1773f3",
   "metadata": {},
   "outputs": [],
   "source": [
    "# total number of cups\n",
    "n = 12\n",
    "\n",
    "# number of cups with milk first\n",
    "k = 4"
   ]
  },
  {
   "cell_type": "code",
   "execution_count": 139,
   "id": "f88d1374",
   "metadata": {},
   "outputs": [
    {
     "data": {
      "text/plain": [
       "479001600"
      ]
     },
     "execution_count": 139,
     "metadata": {},
     "output_type": "execute_result"
    }
   ],
   "source": [
    "math.factorial(n)"
   ]
  },
  {
   "cell_type": "code",
   "execution_count": 140,
   "id": "ebd663bb",
   "metadata": {},
   "outputs": [
    {
     "data": {
      "text/plain": [
       "24"
      ]
     },
     "execution_count": 140,
     "metadata": {},
     "output_type": "execute_result"
    }
   ],
   "source": [
    "math.factorial(k)"
   ]
  },
  {
   "cell_type": "code",
   "execution_count": 141,
   "id": "5087a911",
   "metadata": {},
   "outputs": [
    {
     "data": {
      "text/plain": [
       "40320"
      ]
     },
     "execution_count": 141,
     "metadata": {},
     "output_type": "execute_result"
    }
   ],
   "source": [
    "math.factorial(n-k)"
   ]
  },
  {
   "cell_type": "code",
   "execution_count": 142,
   "id": "00f7ebd7",
   "metadata": {},
   "outputs": [
    {
     "data": {
      "text/plain": [
       "495"
      ]
     },
     "execution_count": 142,
     "metadata": {},
     "output_type": "execute_result"
    }
   ],
   "source": [
    "# using the choose function\n",
    "math.factorial(n)//(math.factorial(k)*math.factorial(n-k))"
   ]
  },
  {
   "cell_type": "markdown",
   "id": "884cf439",
   "metadata": {},
   "source": [
    "#### Calculating possible combinations using math.comb"
   ]
  },
  {
   "cell_type": "markdown",
   "id": "70bd0f6d",
   "metadata": {},
   "source": [
    "The [math.comb](https://docs.python.org/3/library/math.html#math.comb) function condenses the above steps into one."
   ]
  },
  {
   "cell_type": "code",
   "execution_count": 143,
   "id": "4e54db7f",
   "metadata": {},
   "outputs": [
    {
     "data": {
      "text/plain": [
       "495"
      ]
     },
     "execution_count": 143,
     "metadata": {},
     "output_type": "execute_result"
    }
   ],
   "source": [
    "# number of possible combinations when selecting 8 cups from the 12 presented\n",
    "combinations = math.comb(n_cups, cups_milk_first)\n",
    "combinations"
   ]
  },
  {
   "cell_type": "markdown",
   "id": "74a9fddb",
   "metadata": {},
   "source": [
    "### Ordering the Results"
   ]
  },
  {
   "cell_type": "code",
   "execution_count": 144,
   "id": "c3d3232b",
   "metadata": {},
   "outputs": [
    {
     "data": {
      "text/plain": [
       "[0, 1, 2, 3, 4, 5, 6, 7, 8, 9, 10, 11]"
      ]
     },
     "execution_count": 144,
     "metadata": {},
     "output_type": "execute_result"
    }
   ],
   "source": [
    "#label the cups\n",
    "labels = list(range(n_cups))\n",
    "labels"
   ]
  },
  {
   "cell_type": "code",
   "execution_count": 145,
   "id": "7d836c05",
   "metadata": {},
   "outputs": [
    {
     "data": {
      "text/plain": [
       "495"
      ]
     },
     "execution_count": 145,
     "metadata": {},
     "output_type": "execute_result"
    }
   ],
   "source": [
    "# show how many unique ways there are of selecting cups_milk_first from n_cups\n",
    "combs = list(itertools.combinations(labels, cups_milk_first))\n",
    "len(combs)"
   ]
  },
  {
   "cell_type": "code",
   "execution_count": 146,
   "id": "74340873",
   "metadata": {},
   "outputs": [
    {
     "data": {
      "text/plain": [
       "[7, 11, 6, 3, 0, 8, 10, 4, 1, 5, 9, 2]"
      ]
     },
     "execution_count": 146,
     "metadata": {},
     "output_type": "execute_result"
    }
   ],
   "source": [
    "# shuffle the prepared cups\n",
    "# https://numpy.org/doc/stable/reference/random/generated/numpy.random.shuffle.html\n",
    "np.random.shuffle(labels)\n",
    "labels"
   ]
  },
  {
   "cell_type": "code",
   "execution_count": 147,
   "id": "bbc2b6bb",
   "metadata": {},
   "outputs": [
    {
     "data": {
      "text/plain": [
       "array([ 0,  5,  7, 11])"
      ]
     },
     "execution_count": 147,
     "metadata": {},
     "output_type": "execute_result"
    }
   ],
   "source": [
    "# select 4 cups\n",
    "# https://numpy.org/doc/stable/reference/random/generated/numpy.random.choice.html\n",
    "choice = np.random.choice(labels, size = 4, replace = False)\n",
    "choice"
   ]
  },
  {
   "cell_type": "code",
   "execution_count": 148,
   "id": "61a46f02",
   "metadata": {},
   "outputs": [],
   "source": [
    "# calculate the overlap between each element of combs and choice\n",
    "overlaps_amount = []\n",
    "for comb in combs:\n",
    "    # Turn comb into a set\n",
    "    set1 = set(comb)\n",
    "    # Turn choice into a set\n",
    "    set2 = set(choice)\n",
    "    # See if they overlap\n",
    "    overlap = set1.intersection(set2)\n",
    "    # Append the overlap to overlaps_amount\n",
    "    overlaps_amount.append(len(overlap))"
   ]
  },
  {
   "cell_type": "code",
   "execution_count": 149,
   "id": "9e61b8f4",
   "metadata": {},
   "outputs": [
    {
     "data": {
      "text/plain": [
       "(array([0, 1, 2, 3, 4]), array([ 70, 224, 168,  32,   1]))"
      ]
     },
     "execution_count": 149,
     "metadata": {},
     "output_type": "execute_result"
    }
   ],
   "source": [
    "count = np.unique(overlaps_amount, return_counts = True)\n",
    "count"
   ]
  },
  {
   "cell_type": "code",
   "execution_count": 150,
   "id": "66154656",
   "metadata": {},
   "outputs": [
    {
     "data": {
      "image/png": "[encoded data removed]",
      "text/plain": [
       "<Figure size 600x400 with 1 Axes>"
      ]
     },
     "metadata": {},
     "output_type": "display_data"
    }
   ],
   "source": [
    "fig, ax = plt.subplots(figsize = (6, 4))\n",
    "ax.bar(count[0], count[1]);"
   ]
  },
  {
   "cell_type": "markdown",
   "id": "31d771bf",
   "metadata": {},
   "source": [
    "### Null Hypothesis"
   ]
  },
  {
   "cell_type": "markdown",
   "id": "8ce3fb6e",
   "metadata": {},
   "source": [
    "1. The participant has no special ability to discern the preparation method for each cup\n",
    "2. The participant is selecting 4 cups at random and declaring them to have been prepared with the milk added before the tea infusion."
   ]
  },
  {
   "cell_type": "markdown",
   "id": "044773b3",
   "metadata": {},
   "source": [
    "### Alternate Hypothesis"
   ]
  },
  {
   "cell_type": "markdown",
   "id": "f4284058",
   "metadata": {},
   "source": [
    "1. The participant is able to identify the cups which were prepared with the milk added before the tea infusion."
   ]
  },
  {
   "cell_type": "markdown",
   "id": "ef22aba3",
   "metadata": {},
   "source": [
    "The probability that the participant will correctly identify the 4 cups with milk added first is 1/495, if they are selecting cups at random. If they do select the correct 4 cups, it is so unlikley that they would have done this by random chance that there is likely something non-random happening when they are making their selection."
   ]
  },
  {
   "cell_type": "code",
   "execution_count": 151,
   "id": "df6254cc",
   "metadata": {},
   "outputs": [
    {
     "data": {
      "text/plain": [
       "0.00202020202020202"
      ]
     },
     "execution_count": 151,
     "metadata": {},
     "output_type": "execute_result"
    }
   ],
   "source": [
    "# probability of participant randomly selecting 4 correct cups\n",
    "1/495"
   ]
  },
  {
   "cell_type": "code",
   "execution_count": 152,
   "id": "342552c4",
   "metadata": {},
   "outputs": [
    {
     "data": {
      "text/plain": [
       "0.06666666666666667"
      ]
     },
     "execution_count": 152,
     "metadata": {},
     "output_type": "execute_result"
    }
   ],
   "source": [
    "# probability of randomly selecting at least 3 correct cups\n",
    "(32+1)/495"
   ]
  },
  {
   "cell_type": "markdown",
   "id": "9c20efa8",
   "metadata": {},
   "source": [
    "## Problem 2: Normal Distribution"
   ]
  },
  {
   "cell_type": "markdown",
   "id": "3b4560ac",
   "metadata": {},
   "source": [
    "generate 100,000 samples of size 10 from standard normal distribution\n",
    "\n",
    "compute standard deviation with ddof=1 and ddof=0 for each sample\n",
    "\n",
    "plot histograms of both sets of values on the same axes with transparency\n",
    "\n",
    "describe differences\n",
    "\n",
    "explain how differences are expected to change with larger sample sizes"
   ]
  },
  {
   "cell_type": "code",
   "execution_count": 153,
   "id": "82e5c206",
   "metadata": {},
   "outputs": [],
   "source": [
    "# https://numpy.org/doc/stable/reference/random/generated/numpy.random.Generator.standard_normal.html\n",
    "#samples = np.random.default_rng()\n",
    "#samples_plot=samples.standard_normal(100000)\n",
    "#samples_plot\n"
   ]
  },
  {
   "cell_type": "code",
   "execution_count": 154,
   "id": "69a32c21",
   "metadata": {},
   "outputs": [
    {
     "data": {
      "text/plain": [
       "array([10.90529418, 10.91408916, 10.23533251, ..., 11.00388238,\n",
       "        9.37022177, 10.30040582], shape=(100000,))"
      ]
     },
     "execution_count": 154,
     "metadata": {},
     "output_type": "execute_result"
    }
   ],
   "source": [
    "# https://numpy.org/doc/stable/reference/random/generated/numpy.random.normal.html\n",
    "samples=np.random.normal(10, size=100000)\n",
    "samples"
   ]
  },
  {
   "cell_type": "code",
   "execution_count": 155,
   "id": "3253d6e5",
   "metadata": {},
   "outputs": [
    {
     "data": {
      "text/plain": [
       "(array([4.0000e+01, 5.3800e+02, 4.5290e+03, 1.7553e+04, 3.3091e+04,\n",
       "        2.9062e+04, 1.2445e+04, 2.4890e+03, 2.4300e+02, 1.0000e+01]),\n",
       " array([ 5.72147031,  6.604897  ,  7.48832369,  8.37175038,  9.25517706,\n",
       "        10.13860375, 11.02203044, 11.90545713, 12.78888382, 13.67231051,\n",
       "        14.5557372 ]),\n",
       " <BarContainer object of 10 artists>)"
      ]
     },
     "execution_count": 155,
     "metadata": {},
     "output_type": "execute_result"
    },
    {
     "data": {
      "image/png": "[encoded data removed]",
      "text/plain": [
       "<Figure size 640x480 with 1 Axes>"
      ]
     },
     "metadata": {},
     "output_type": "display_data"
    }
   ],
   "source": [
    "fig,ax=plt.subplots()\n",
    "ax.hist(samples)"
   ]
  },
  {
   "cell_type": "markdown",
   "id": "7f3bddc3",
   "metadata": {},
   "source": [
    "## Problem 3: t-Tests"
   ]
  },
  {
   "cell_type": "markdown",
   "id": "91b65d55",
   "metadata": {},
   "source": [
    "## Problem 4: ANOVA"
   ]
  },
  {
   "cell_type": "markdown",
   "id": "a04f04d2",
   "metadata": {},
   "source": [
    "### References"
   ]
  },
  {
   "cell_type": "markdown",
   "id": "be49fd0e",
   "metadata": {},
   "source": [
    "*****\n",
    "# End"
   ]
  }
 ],
 "metadata": {
  "kernelspec": {
   "display_name": "Python 3",
   "language": "python",
   "name": "python3"
  },
  "language_info": {
   "codemirror_mode": {
    "name": "ipython",
    "version": 3
   },
   "file_extension": ".py",
   "mimetype": "text/x-python",
   "name": "python",
   "nbconvert_exporter": "python",
   "pygments_lexer": "ipython3",
   "version": "3.12.1"
  }
 },
 "nbformat": 4,
 "nbformat_minor": 5
}
